{
 "cells": [
  {
   "cell_type": "markdown",
   "metadata": {},
   "source": [
    "Code Attribution: https://towardsdatascience.com/building-a-one-hot-encoding-layer-with-tensorflow-f907d686bf39"
   ]
  },
  {
   "cell_type": "code",
   "execution_count": 1,
   "metadata": {},
   "outputs": [],
   "source": [
    "import numpy as np\n",
    "import pandas as pd "
   ]
  },
  {
   "cell_type": "code",
   "execution_count": 2,
   "metadata": {},
   "outputs": [],
   "source": [
    "from sklearn.preprocessing import OneHotEncoder"
   ]
  },
  {
   "cell_type": "code",
   "execution_count": 3,
   "metadata": {},
   "outputs": [],
   "source": [
    "import tensorflow as tf \n",
    "from tensorflow.keras import layers, models"
   ]
  },
  {
   "cell_type": "code",
   "execution_count": 4,
   "metadata": {},
   "outputs": [
    {
     "name": "stdout",
     "output_type": "stream",
     "text": [
      "No One Hot Encoding: \n",
      "   color\n",
      "0    red\n",
      "1   blue\n",
      "2  green\n",
      "3   blue\n",
      "One Hot Encoding: \n"
     ]
    },
    {
     "data": {
      "text/html": [
       "<div>\n",
       "<style scoped>\n",
       "    .dataframe tbody tr th:only-of-type {\n",
       "        vertical-align: middle;\n",
       "    }\n",
       "\n",
       "    .dataframe tbody tr th {\n",
       "        vertical-align: top;\n",
       "    }\n",
       "\n",
       "    .dataframe thead tr th {\n",
       "        text-align: left;\n",
       "    }\n",
       "</style>\n",
       "<table border=\"1\" class=\"dataframe\">\n",
       "  <thead>\n",
       "    <tr>\n",
       "      <th></th>\n",
       "      <th>blue</th>\n",
       "      <th>green</th>\n",
       "      <th>red</th>\n",
       "    </tr>\n",
       "  </thead>\n",
       "  <tbody>\n",
       "    <tr>\n",
       "      <th>0</th>\n",
       "      <td>0.0</td>\n",
       "      <td>0.0</td>\n",
       "      <td>1.0</td>\n",
       "    </tr>\n",
       "    <tr>\n",
       "      <th>1</th>\n",
       "      <td>1.0</td>\n",
       "      <td>0.0</td>\n",
       "      <td>0.0</td>\n",
       "    </tr>\n",
       "    <tr>\n",
       "      <th>2</th>\n",
       "      <td>0.0</td>\n",
       "      <td>1.0</td>\n",
       "      <td>0.0</td>\n",
       "    </tr>\n",
       "    <tr>\n",
       "      <th>3</th>\n",
       "      <td>1.0</td>\n",
       "      <td>0.0</td>\n",
       "      <td>0.0</td>\n",
       "    </tr>\n",
       "  </tbody>\n",
       "</table>\n",
       "</div>"
      ],
      "text/plain": [
       "  blue green  red\n",
       "0  0.0   0.0  1.0\n",
       "1  1.0   0.0  0.0\n",
       "2  0.0   1.0  0.0\n",
       "3  1.0   0.0  0.0"
      ]
     },
     "execution_count": 4,
     "metadata": {},
     "output_type": "execute_result"
    }
   ],
   "source": [
    "#First create a default OnehotEncoder to use a reference\n",
    "#Simple dataframe created\n",
    "#Then use the sklearn one hot encoder\n",
    "colors_df = pd.DataFrame(data=[['red'],['blue'],['green'],['blue']], columns=['color'])\n",
    "print('No One Hot Encoding: ')\n",
    "print(colors_df.head())\n",
    "\n",
    "one_hot_encoder = OneHotEncoder(sparse=False)\n",
    "one_hot_encoder.fit(colors_df)\n",
    "\n",
    "#The ref encoded will serve as the reference\n",
    "ref_encoded_df = one_hot_encoder.transform(colors_df)\n",
    "ref_encoded_df = pd.DataFrame(data=ref_encoded_df, columns=one_hot_encoder.categories_)\n",
    "print('One Hot Encoding: ')\n",
    "ref_encoded_df.head()"
   ]
  },
  {
   "cell_type": "code",
   "execution_count": 5,
   "metadata": {},
   "outputs": [],
   "source": [
    "#This will serve as a custom layer for One Hot Encoding Categorical Features\n",
    "# adapt() fits the layer to the categorical inputs\n",
    "# call() invokes the layer and One Hot Encodes the inputs based on the vocabulary learned during the call to adapt()\n",
    "# get_config() returns a configuration dict that represents the state of the layer. This includes the vocabulary (e.g. ['red','green','blue']), the depth (or the number of unique categories), and the minimum index.\n",
    "class OneHotEncodingLayer(layers.experimental.preprocessing.PreprocessingLayer):\n",
    "    def __init__(self, vocabulary=None, depth=None, minimum=None):\n",
    "        super().__init__()\n",
    "        self.vectorization = layers.experimental.preprocessing.TextVectorization(output_sequence_length=1)\n",
    "        \n",
    "        if vocabulary:\n",
    "          self.vectorization.set_vocabulary(vocabulary)\n",
    "        self.depth = depth   \n",
    "        self.minimum = minimum\n",
    "        \n",
    "    def adapt(self, data):\n",
    "        self.vectorization.adapt(data)\n",
    "        vocab = self.vectorization.get_vocabulary()\n",
    "        self.depth = len(vocab)\n",
    "        indices = [i[0] for i in self.vectorization([[v] for v in vocab]).numpy()]\n",
    "        self.minimum = min(indices)\n",
    "    \n",
    "    def call(self,inputs):\n",
    "        vectorized = self.vectorization.call(inputs)\n",
    "        subtracted = tf.subtract(vectorized, tf.constant([self.minimum], dtype=tf.int64))\n",
    "        encoded = tf.one_hot(subtracted, self.depth)\n",
    "        return layers.Reshape((self.depth,))(encoded)\n",
    "    \n",
    "    def get_config(self):\n",
    "        return {'vocabulary': self.vectorization.get_vocabulary(), 'depth': self.depth, 'minimum': self.minimum}"
   ]
  },
  {
   "cell_type": "code",
   "execution_count": 6,
   "metadata": {},
   "outputs": [],
   "source": [
    "#Constructing a One Hot Encoded using a Neural Network\n",
    "\n",
    "colors_df = pd.DataFrame(data=[[1,'red'],[2,'blue'],[3,'green'],[4,'blue']], columns=['id', 'color'])\n",
    "categorical_input = layers.Input(shape=(1,), dtype=tf.string)\n",
    "one_hot_layer = OneHotEncodingLayer()\n",
    "one_hot_layer.adapt(colors_df['color'].values)\n",
    "encoded = one_hot_layer(categorical_input)\n",
    "\n",
    "numeric_input = layers.Input(shape=(1,), dtype=tf.float32)\n",
    "\n",
    "concat = layers.concatenate([numeric_input, encoded])"
   ]
  },
  {
   "cell_type": "code",
   "execution_count": 8,
   "metadata": {},
   "outputs": [
    {
     "name": "stdout",
     "output_type": "stream",
     "text": [
      "[[1. 0. 0. 0. 1. 0.]\n",
      " [2. 0. 0. 1. 0. 0.]\n",
      " [3. 0. 0. 0. 0. 1.]\n",
      " [4. 0. 0. 1. 0. 0.]]\n"
     ]
    }
   ],
   "source": [
    "model = models.Model(inputs=[numeric_input, categorical_input], outputs=[concat])\n",
    "model.compile()\n",
    "NN_encoded_predicted = model.predict([colors_df['id'], colors_df['color']])\n",
    "print(NN_encoded_predicted)"
   ]
  },
  {
   "cell_type": "code",
   "execution_count": 9,
   "metadata": {},
   "outputs": [
    {
     "name": "stdout",
     "output_type": "stream",
     "text": [
      "  blue green  red\n",
      "0  0.0   0.0  1.0\n",
      "1  1.0   0.0  0.0\n",
      "2  0.0   1.0  0.0\n",
      "3  1.0   0.0  0.0\n",
      "[[1. 0. 0. 0. 1. 0.]\n",
      " [2. 0. 0. 1. 0. 0.]\n",
      " [3. 0. 0. 0. 0. 1.]\n",
      " [4. 0. 0. 1. 0. 0.]]\n"
     ]
    }
   ],
   "source": [
    "print(ref_encoded_df)\n",
    "print(NN_encoded_predicted)"
   ]
  }
 ],
 "metadata": {
  "kernelspec": {
   "display_name": "Python 3.9.7 ('base')",
   "language": "python",
   "name": "python3"
  },
  "language_info": {
   "codemirror_mode": {
    "name": "ipython",
    "version": 3
   },
   "file_extension": ".py",
   "mimetype": "text/x-python",
   "name": "python",
   "nbconvert_exporter": "python",
   "pygments_lexer": "ipython3",
   "version": "3.9.7"
  },
  "orig_nbformat": 4,
  "vscode": {
   "interpreter": {
    "hash": "dc79205d6004f7d832ecc52c21573dee48d50986772725eb46055dbb7d7aeef2"
   }
  }
 },
 "nbformat": 4,
 "nbformat_minor": 2
}
