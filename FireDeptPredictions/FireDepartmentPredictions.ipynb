{
 "cells": [
  {
   "cell_type": "code",
   "execution_count": 1,
   "metadata": {},
   "outputs": [],
   "source": [
    "from pyspark.sql import SparkSession \n",
    "from pyspark.sql import functions as F\n",
    "from pyspark.ml.feature import StringIndexer\n",
    "from pyspark.ml.feature import VectorAssembler\n",
    "from pyspark.ml.evaluation import BinaryClassificationEvaluator\n",
    "from pyspark.ml.classification import LogisticRegression \n",
    "import numpy as np"
   ]
  },
  {
   "cell_type": "code",
   "execution_count": 2,
   "metadata": {},
   "outputs": [],
   "source": [
    "import matplotlib.pyplot as plt"
   ]
  },
  {
   "cell_type": "code",
   "execution_count": 3,
   "metadata": {},
   "outputs": [],
   "source": [
    "from sklearn import metrics"
   ]
  },
  {
   "cell_type": "code",
   "execution_count": 4,
   "metadata": {},
   "outputs": [],
   "source": [
    "spark = SparkSession.builder.master('local').appName('Predicting Fire Dept Calls').config('spark.executor.memory','6gb').getOrCreate()"
   ]
  },
  {
   "cell_type": "code",
   "execution_count": 5,
   "metadata": {},
   "outputs": [],
   "source": [
    "url = 'https://data.sfgov.org/resource/RowID.json'\n",
    "df = spark.read.format('com.databricks.spark.csv').options(header='True', inferschema='True').load('C:/Users/Dylan/Desktop/Datasets/Fire_Department_Calls_for_Service.csv')"
   ]
  },
  {
   "cell_type": "code",
   "execution_count": 6,
   "metadata": {},
   "outputs": [
    {
     "name": "stdout",
     "output_type": "stream",
     "text": [
      "+-----------+-------+---------------+------------+----------+----------+--------------------+--------------------+--------------------+--------------------+--------------------+--------------+-------------+----------------------+--------------------+--------------------+-------------+-------------------+---------+------------+----+-----------------+--------+--------------+--------+---------------+----------------+---------+------------------------------+------------------------+-------------------+------------------------------------+-------------+--------------------+----------------------+\n",
      "|Call Number|Unit ID|Incident Number|   Call Type| Call Date|Watch Date|       Received DtTm|          Entry DtTm|       Dispatch DtTm|       Response DtTm|       On Scene DtTm|Transport DtTm|Hospital DtTm|Call Final Disposition|      Available DtTm|             Address|         City|Zipcode of Incident|Battalion|Station Area| Box|Original Priority|Priority|Final Priority|ALS Unit|Call Type Group|Number of Alarms|Unit Type|Unit sequence in call dispatch|Fire Prevention District|Supervisor District|Neighborhooods - Analysis Boundaries|        RowID|       case_location|Analysis Neighborhoods|\n",
      "+-----------+-------+---------------+------------+----------+----------+--------------------+--------------------+--------------------+--------------------+--------------------+--------------+-------------+----------------------+--------------------+--------------------+-------------+-------------------+---------+------------+----+-----------------+--------+--------------+--------+---------------+----------------+---------+------------------------------+------------------------+-------------------+------------------------------------+-------------+--------------------+----------------------+\n",
      "|  221210313|    E36|       22054955|Outside Fire|05/01/2022|04/30/2022|05/01/2022 02:58:...|05/01/2022 02:59:...|05/01/2022 02:59:...|05/01/2022 03:01:...|05/01/2022 03:02:...|          null|         null|                  Fire|05/01/2022 03:05:...|   GOUGH ST/GROVE ST|San Francisco|              94102|      B02|          36|3265|                3|       3|             3|    true|           Fire|               1|   ENGINE|                             1|                       2|                  5|                        Hayes Valley|221210313-E36|POINT (-122.42316...|                     9|\n",
      "|  220190150|    E29|       22008871|      Alarms|01/19/2022|01/18/2022|01/19/2022 01:42:...|01/19/2022 01:44:...|01/19/2022 01:44:...|01/19/2022 01:46:...|01/19/2022 01:49:...|          null|         null|                  Fire|01/19/2022 02:35:...|100 Block of MISS...|San Francisco|              94107|      B03|          29|2431|                3|       3|             3|    true|          Alarm|               1|   ENGINE|                             1|                       3|                 10|                        Potrero Hill|220190150-E29|POINT (-122.39469...|                    26|\n",
      "+-----------+-------+---------------+------------+----------+----------+--------------------+--------------------+--------------------+--------------------+--------------------+--------------+-------------+----------------------+--------------------+--------------------+-------------+-------------------+---------+------------+----+-----------------+--------+--------------+--------+---------------+----------------+---------+------------------------------+------------------------+-------------------+------------------------------------+-------------+--------------------+----------------------+\n",
      "only showing top 2 rows\n",
      "\n"
     ]
    }
   ],
   "source": [
    "df.show(2)"
   ]
  },
  {
   "cell_type": "code",
   "execution_count": 7,
   "metadata": {},
   "outputs": [
    {
     "name": "stdout",
     "output_type": "stream",
     "text": [
      "+--------------------+\n",
      "|     Call Type Group|\n",
      "+--------------------+\n",
      "|               Alarm|\n",
      "|                null|\n",
      "|Potentially Life-...|\n",
      "|Non Life-threatening|\n",
      "|                Fire|\n",
      "+--------------------+\n",
      "\n"
     ]
    }
   ],
   "source": [
    "df.select('Call Type Group').distinct().show()"
   ]
  },
  {
   "cell_type": "code",
   "execution_count": 8,
   "metadata": {},
   "outputs": [
    {
     "name": "stdout",
     "output_type": "stream",
     "text": [
      "+--------------------+-------+\n",
      "|     Call Type Group|  count|\n",
      "+--------------------+-------+\n",
      "|               Alarm| 747473|\n",
      "|                null|2817409|\n",
      "|Potentially Life-...|1526807|\n",
      "|Non Life-threatening| 770183|\n",
      "|                Fire| 132387|\n",
      "+--------------------+-------+\n",
      "\n"
     ]
    }
   ],
   "source": [
    "df.groupBy('Call Type Group').count().show()"
   ]
  },
  {
   "cell_type": "code",
   "execution_count": 9,
   "metadata": {},
   "outputs": [],
   "source": [
    "df2 = df.groupBy('Call Type Group').count()\n",
    "graphDF = df2.toPandas()\n",
    "graphDF = graphDF.sort_values('count', ascending=False)"
   ]
  },
  {
   "cell_type": "code",
   "execution_count": 10,
   "metadata": {},
   "outputs": [
    {
     "data": {
      "image/png": "[encoded data removed]",
      "text/plain": [
       "<Figure size 432x288 with 1 Axes>"
      ]
     },
     "metadata": {
      "needs_background": "light"
     },
     "output_type": "display_data"
    }
   ],
   "source": [
    "graphDF.plot(x='Call Type Group', y ='count', kind='bar')\n",
    "plt.title('Call Type Groups by Count')\n",
    "plt.show()"
   ]
  },
  {
   "cell_type": "code",
   "execution_count": 11,
   "metadata": {},
   "outputs": [
    {
     "name": "stdout",
     "output_type": "stream",
     "text": [
      "+--------------------+-------+\n",
      "|           Call Type|  count|\n",
      "+--------------------+-------+\n",
      "|    Medical Incident|3936048|\n",
      "|      Structure Fire| 711137|\n",
      "|              Alarms| 661567|\n",
      "|   Traffic Collision| 243958|\n",
      "|               Other|  99043|\n",
      "|Citizen Assist / ...|  89166|\n",
      "|        Outside Fire|  77034|\n",
      "|        Water Rescue|  31747|\n",
      "|        Vehicle Fire|  27083|\n",
      "|Gas Leak (Natural...|  26500|\n",
      "|   Electrical Hazard|  19364|\n",
      "|Elevator / Escala...|  16462|\n",
      "|Smoke Investigati...|  13644|\n",
      "|Odor (Strange / U...|  13368|\n",
      "|          Fuel Spill|   6681|\n",
      "|              HazMat|   4296|\n",
      "|Industrial Accidents|   3219|\n",
      "|           Explosion|   2963|\n",
      "|Train / Rail Inci...|   1600|\n",
      "|  Aircraft Emergency|   1512|\n",
      "|       Assist Police|   1477|\n",
      "|   High Angle Rescue|   1373|\n",
      "|Watercraft in Dis...|   1132|\n",
      "|Extrication / Ent...|    869|\n",
      "|Confined Space / ...|    677|\n",
      "|Mutual Aid / Assi...|    569|\n",
      "|           Oil Spill|    518|\n",
      "|         Marine Fire|    492|\n",
      "|  Suspicious Package|    360|\n",
      "|      Administrative|    307|\n",
      "|   Train / Rail Fire|     84|\n",
      "|Lightning Strike ...|      9|\n",
      "+--------------------+-------+\n",
      "\n"
     ]
    }
   ],
   "source": [
    "df.groupBy('Call Type').count().orderBy('count', ascending=False).show(100)"
   ]
  },
  {
   "cell_type": "code",
   "execution_count": 12,
   "metadata": {},
   "outputs": [
    {
     "name": "stdout",
     "output_type": "stream",
     "text": [
      "+--------------------+--------------+\n",
      "|           Call Type|Fire Indicator|\n",
      "+--------------------+--------------+\n",
      "|        Outside Fire|             1|\n",
      "|              Alarms|             0|\n",
      "|              Alarms|             0|\n",
      "|              Alarms|             0|\n",
      "|              Alarms|             0|\n",
      "|              Alarms|             0|\n",
      "|              Alarms|             0|\n",
      "|              Alarms|             0|\n",
      "|      Structure Fire|             1|\n",
      "|    Medical Incident|             0|\n",
      "|               Other|             0|\n",
      "|              Alarms|             0|\n",
      "|    Medical Incident|             0|\n",
      "|        Outside Fire|             1|\n",
      "|              Alarms|             0|\n",
      "|        Outside Fire|             1|\n",
      "|Citizen Assist / ...|             0|\n",
      "|              Alarms|             0|\n",
      "|              Alarms|             0|\n",
      "|               Other|             0|\n",
      "+--------------------+--------------+\n",
      "only showing top 20 rows\n",
      "\n"
     ]
    }
   ],
   "source": [
    "fireIndicator = df.select(df['Call Type'], F.when(df['Call Type'].like('%Fire%'), 1).otherwise(0).alias('Fire Indicator'))\n",
    "fireIndicator.show()"
   ]
  },
  {
   "cell_type": "code",
   "execution_count": 13,
   "metadata": {},
   "outputs": [
    {
     "name": "stdout",
     "output_type": "stream",
     "text": [
      "+--------------+-------+\n",
      "|Fire Indicator|  count|\n",
      "+--------------+-------+\n",
      "|             1| 815830|\n",
      "|             0|5178429|\n",
      "+--------------+-------+\n",
      "\n"
     ]
    }
   ],
   "source": [
    "fireIndicator.groupBy('Fire Indicator').count().show()"
   ]
  },
  {
   "cell_type": "code",
   "execution_count": 14,
   "metadata": {},
   "outputs": [
    {
     "name": "stdout",
     "output_type": "stream",
     "text": [
      "root\n",
      " |-- Call Number: integer (nullable = true)\n",
      " |-- Unit ID: string (nullable = true)\n",
      " |-- Incident Number: integer (nullable = true)\n",
      " |-- Call Type: string (nullable = true)\n",
      " |-- Call Date: string (nullable = true)\n",
      " |-- Watch Date: string (nullable = true)\n",
      " |-- Received DtTm: string (nullable = true)\n",
      " |-- Entry DtTm: string (nullable = true)\n",
      " |-- Dispatch DtTm: string (nullable = true)\n",
      " |-- Response DtTm: string (nullable = true)\n",
      " |-- On Scene DtTm: string (nullable = true)\n",
      " |-- Transport DtTm: string (nullable = true)\n",
      " |-- Hospital DtTm: string (nullable = true)\n",
      " |-- Call Final Disposition: string (nullable = true)\n",
      " |-- Available DtTm: string (nullable = true)\n",
      " |-- Address: string (nullable = true)\n",
      " |-- City: string (nullable = true)\n",
      " |-- Zipcode of Incident: integer (nullable = true)\n",
      " |-- Battalion: string (nullable = true)\n",
      " |-- Station Area: string (nullable = true)\n",
      " |-- Box: string (nullable = true)\n",
      " |-- Original Priority: string (nullable = true)\n",
      " |-- Priority: string (nullable = true)\n",
      " |-- Final Priority: integer (nullable = true)\n",
      " |-- ALS Unit: boolean (nullable = true)\n",
      " |-- Call Type Group: string (nullable = true)\n",
      " |-- Number of Alarms: integer (nullable = true)\n",
      " |-- Unit Type: string (nullable = true)\n",
      " |-- Unit sequence in call dispatch: integer (nullable = true)\n",
      " |-- Fire Prevention District: string (nullable = true)\n",
      " |-- Supervisor District: string (nullable = true)\n",
      " |-- Neighborhooods - Analysis Boundaries: string (nullable = true)\n",
      " |-- RowID: string (nullable = true)\n",
      " |-- case_location: string (nullable = true)\n",
      " |-- Analysis Neighborhoods: integer (nullable = true)\n",
      " |-- fireIndicator: integer (nullable = false)\n",
      "\n"
     ]
    }
   ],
   "source": [
    "df = df.withColumn('fireIndicator', F.when(df['Call Type'].like('%Fire%'), 1).otherwise(0))\n",
    "df.printSchema()"
   ]
  },
  {
   "cell_type": "code",
   "execution_count": 15,
   "metadata": {},
   "outputs": [
    {
     "name": "stdout",
     "output_type": "stream",
     "text": [
      "+-------------+-------------------+---------+------------+----+----------------+------------------------------+------------------------------------+------------------------+-------------------+\n",
      "|fireIndicator|zipcode of Incident|Battalion|Station Area| Box|Number of Alarms|Unit sequence in call dispatch|Neighborhooods - Analysis Boundaries|Fire Prevention District|Supervisor District|\n",
      "+-------------+-------------------+---------+------------+----+----------------+------------------------------+------------------------------------+------------------------+-------------------+\n",
      "|            1|              94102|      B02|          36|3265|               1|                             1|                        Hayes Valley|                       2|                  5|\n",
      "|            0|              94107|      B03|          29|2431|               1|                             1|                        Potrero Hill|                       3|                 10|\n",
      "|            0|              94110|      B02|          07|5236|               1|                             2|                             Mission|                       2|                  9|\n",
      "|            0|              94102|      B03|          03|1456|               1|                             3|                          Tenderloin|                       3|                  6|\n",
      "|            0|              94109|      B04|          16|3146|               1|                             4|                        Russian Hill|                       4|                  2|\n",
      "+-------------+-------------------+---------+------------+----+----------------+------------------------------+------------------------------------+------------------------+-------------------+\n",
      "only showing top 5 rows\n",
      "\n"
     ]
    }
   ],
   "source": [
    "df = df.select('fireIndicator',\n",
    "               'zipcode of Incident',\n",
    "               'Battalion',\n",
    "               'Station Area',\n",
    "               'Box',\n",
    "               'Number of Alarms',\n",
    "               'Unit sequence in call dispatch',\n",
    "               'Neighborhooods - Analysis Boundaries',\n",
    "               'Fire Prevention District',\n",
    "               'Supervisor District')\n",
    "df.show(5)"
   ]
  },
  {
   "cell_type": "code",
   "execution_count": 16,
   "metadata": {},
   "outputs": [
    {
     "name": "stdout",
     "output_type": "stream",
     "text": [
      "Total Rows\n",
      "5994259\n",
      "Rows without Null values\n",
      "5976685\n",
      "Row with Null Values\n",
      "17574\n"
     ]
    }
   ],
   "source": [
    "print('Total Rows')\n",
    "print(df.count())\n",
    "print('Rows without Null values')\n",
    "print(df.dropna().count())\n",
    "print('Row with Null Values')\n",
    "print(df.count() - df.dropna().count())"
   ]
  },
  {
   "cell_type": "code",
   "execution_count": 17,
   "metadata": {},
   "outputs": [],
   "source": [
    "df =df.dropna()"
   ]
  },
  {
   "cell_type": "code",
   "execution_count": 18,
   "metadata": {},
   "outputs": [
    {
     "name": "stdout",
     "output_type": "stream",
     "text": [
      "+-------------+-------+\n",
      "|fireIndicator|  count|\n",
      "+-------------+-------+\n",
      "|            0|5162021|\n",
      "|            1| 814664|\n",
      "+-------------+-------+\n",
      "\n"
     ]
    }
   ],
   "source": [
    "df.groupBy('fireIndicator').count().orderBy('count', ascending=False).show()"
   ]
  },
  {
   "cell_type": "code",
   "execution_count": 19,
   "metadata": {},
   "outputs": [],
   "source": [
    "column_names = df.columns[1:]"
   ]
  },
  {
   "cell_type": "code",
   "execution_count": 20,
   "metadata": {},
   "outputs": [
    {
     "data": {
      "text/plain": [
       "['zipcode of Incident',\n",
       " 'Battalion',\n",
       " 'Station Area',\n",
       " 'Box',\n",
       " 'Number of Alarms',\n",
       " 'Unit sequence in call dispatch',\n",
       " 'Neighborhooods - Analysis Boundaries',\n",
       " 'Fire Prevention District',\n",
       " 'Supervisor District']"
      ]
     },
     "execution_count": 20,
     "metadata": {},
     "output_type": "execute_result"
    }
   ],
   "source": [
    "column_names"
   ]
  },
  {
   "cell_type": "code",
   "execution_count": 21,
   "metadata": {},
   "outputs": [],
   "source": [
    "categoricalColumns = column_names\n",
    "indexers = []\n",
    "for categoricalCol in categoricalColumns:\n",
    "    stringIndexer = StringIndexer(inputCol=categoricalCol, outputCol=categoricalCol+\"_Index\")\n",
    "    indexers += [stringIndexer]"
   ]
  },
  {
   "cell_type": "code",
   "execution_count": 22,
   "metadata": {},
   "outputs": [
    {
     "data": {
      "text/plain": [
       "[StringIndexer_5c8e2753a3ce,\n",
       " StringIndexer_8a441b4f6b94,\n",
       " StringIndexer_c6b5ed9f0929,\n",
       " StringIndexer_85018cd38e7f,\n",
       " StringIndexer_4a88d45a73d7,\n",
       " StringIndexer_e6392024020d,\n",
       " StringIndexer_96701a44ef81,\n",
       " StringIndexer_4cb6a210f676,\n",
       " StringIndexer_53bf1e448ce1]"
      ]
     },
     "execution_count": 22,
     "metadata": {},
     "output_type": "execute_result"
    }
   ],
   "source": [
    "indexers"
   ]
  },
  {
   "cell_type": "code",
   "execution_count": 23,
   "metadata": {},
   "outputs": [],
   "source": [
    "models = []\n",
    "for model in indexers:\n",
    "    indexer_model = model.fit(df)\n",
    "    models += [indexer_model]\n",
    "for i in models:\n",
    "    df = i.transform(df)"
   ]
  },
  {
   "cell_type": "code",
   "execution_count": 24,
   "metadata": {},
   "outputs": [
    {
     "data": {
      "text/plain": [
       "['fireIndicator',\n",
       " 'zipcode of Incident',\n",
       " 'Battalion',\n",
       " 'Station Area',\n",
       " 'Box',\n",
       " 'Number of Alarms',\n",
       " 'Unit sequence in call dispatch',\n",
       " 'Neighborhooods - Analysis Boundaries',\n",
       " 'Fire Prevention District',\n",
       " 'Supervisor District',\n",
       " 'zipcode of Incident_Index',\n",
       " 'Battalion_Index',\n",
       " 'Station Area_Index',\n",
       " 'Box_Index',\n",
       " 'Number of Alarms_Index',\n",
       " 'Unit sequence in call dispatch_Index',\n",
       " 'Neighborhooods - Analysis Boundaries_Index',\n",
       " 'Fire Prevention District_Index',\n",
       " 'Supervisor District_Index']"
      ]
     },
     "execution_count": 24,
     "metadata": {},
     "output_type": "execute_result"
    }
   ],
   "source": [
    "df.columns"
   ]
  },
  {
   "cell_type": "code",
   "execution_count": 25,
   "metadata": {},
   "outputs": [],
   "source": [
    "df = df.select('fireIndicator',\n",
    "               'zipcode of Incident_Index',\n",
    "               'Battalion_Index',\n",
    "               'Station Area_Index',\n",
    "               'Box_Index',\n",
    "               'Number of Alarms_Index',\n",
    "               'Unit sequence in call dispatch_Index',\n",
    "               'Neighborhooods - Analysis Boundaries_Index',\n",
    "               'Fire Prevention District_Index',\n",
    "               'Supervisor District_Index')"
   ]
  },
  {
   "cell_type": "code",
   "execution_count": 26,
   "metadata": {},
   "outputs": [
    {
     "data": {
      "text/plain": [
       "['zipcode of Incident_Index',\n",
       " 'Battalion_Index',\n",
       " 'Station Area_Index',\n",
       " 'Box_Index',\n",
       " 'Number of Alarms_Index',\n",
       " 'Unit sequence in call dispatch_Index',\n",
       " 'Neighborhooods - Analysis Boundaries_Index',\n",
       " 'Fire Prevention District_Index',\n",
       " 'Supervisor District_Index']"
      ]
     },
     "execution_count": 26,
     "metadata": {},
     "output_type": "execute_result"
    }
   ],
   "source": [
    "features = df.columns[1:]\n",
    "features"
   ]
  },
  {
   "cell_type": "code",
   "execution_count": 27,
   "metadata": {},
   "outputs": [
    {
     "data": {
      "text/plain": [
       "DataFrame[fireIndicator: int, zipcode of Incident_Index: double, Battalion_Index: double, Station Area_Index: double, Box_Index: double, Number of Alarms_Index: double, Unit sequence in call dispatch_Index: double, Neighborhooods - Analysis Boundaries_Index: double, Fire Prevention District_Index: double, Supervisor District_Index: double, features: vector]"
      ]
     },
     "execution_count": 27,
     "metadata": {},
     "output_type": "execute_result"
    }
   ],
   "source": [
    "feature_vectors = VectorAssembler(\n",
    "    inputCols=features,\n",
    "    outputCol='features'\n",
    ")\n",
    "\n",
    "df = feature_vectors.transform(df)\n",
    "df"
   ]
  },
  {
   "cell_type": "code",
   "execution_count": 28,
   "metadata": {},
   "outputs": [
    {
     "name": "stdout",
     "output_type": "stream",
     "text": [
      "+-----+--------------------+\n",
      "|label|            features|\n",
      "+-----+--------------------+\n",
      "|    1|(9,[2,3,6,8],[2.0...|\n",
      "|    0|[7.0,1.0,25.0,110...|\n",
      "|    0|[3.0,0.0,3.0,5.0,...|\n",
      "|    0|[0.0,1.0,1.0,6.0,...|\n",
      "|    0|[2.0,3.0,17.0,677...|\n",
      "|    0|[0.0,2.0,1.0,27.0...|\n",
      "|    0|[2.0,3.0,1.0,122....|\n",
      "|    0|[9.0,2.0,9.0,100....|\n",
      "|    1|[1.0,0.0,2.0,41.0...|\n",
      "|    0|[22.0,5.0,37.0,47...|\n",
      "|    0|[1.0,1.0,25.0,141...|\n",
      "|    0|[11.0,8.0,4.0,96....|\n",
      "|    0|[20.0,7.0,38.0,12...|\n",
      "|    1|[1.0,0.0,25.0,151...|\n",
      "|    0|[7.0,1.0,8.0,14.0...|\n",
      "|    1|[2.0,2.0,11.0,981...|\n",
      "|    0|[0.0,0.0,2.0,47.0...|\n",
      "|    0|[3.0,7.0,3.0,407....|\n",
      "|    0|[12.0,8.0,13.0,88...|\n",
      "|    0|[1.0,2.0,0.0,32.0...|\n",
      "+-----+--------------------+\n",
      "only showing top 20 rows\n",
      "\n"
     ]
    }
   ],
   "source": [
    "df = df.drop('zipcode of Incident_Index',\n",
    "            'Battalion_Index',\n",
    "            'Station Area_Index',\n",
    "            'Box_Index',\n",
    "            'Number of Alarms_Index',\n",
    "            'Unit sequence in call dispatch_Index',\n",
    "            'Neighborhooods - Analysis Boundaries_Index',\n",
    "            'Fire Prevention District_Index',\n",
    "            'Supervisor District_Index')\n",
    "df = df.withColumnRenamed('fireIndicator', 'label')\n",
    "df.show()"
   ]
  },
  {
   "cell_type": "code",
   "execution_count": 40,
   "metadata": {},
   "outputs": [
    {
     "name": "stdout",
     "output_type": "stream",
     "text": [
      "Column<'label'>\n"
     ]
    }
   ],
   "source": [
    "print(df['label'])"
   ]
  },
  {
   "cell_type": "code",
   "execution_count": 29,
   "metadata": {},
   "outputs": [],
   "source": [
    "(trainDF, testDF) = df.randomSplit([0.75,0.25], seed= 12345)"
   ]
  },
  {
   "cell_type": "code",
   "execution_count": 30,
   "metadata": {},
   "outputs": [],
   "source": [
    "logreg = LogisticRegression(labelCol='label',\n",
    "                            featuresCol='features',\n",
    "                            maxIter=10\n",
    "                            )\n",
    "LogisticRegressionModel = logreg.fit(trainDF)"
   ]
  },
  {
   "cell_type": "code",
   "execution_count": 31,
   "metadata": {},
   "outputs": [],
   "source": [
    "df_predicted = LogisticRegressionModel.transform(df)"
   ]
  },
  {
   "cell_type": "code",
   "execution_count": 32,
   "metadata": {},
   "outputs": [
    {
     "name": "stdout",
     "output_type": "stream",
     "text": [
      "+----------------+-------+------+\n",
      "|label_prediction|    0.0|   1.0|\n",
      "+----------------+-------+------+\n",
      "|               1| 587111|227553|\n",
      "|               0|5119010| 43011|\n",
      "+----------------+-------+------+\n",
      "\n"
     ]
    }
   ],
   "source": [
    "df_predicted.crosstab('label', 'prediction').show()"
   ]
  },
  {
   "cell_type": "code",
   "execution_count": 33,
   "metadata": {},
   "outputs": [],
   "source": [
    "actual = df_predicted.select('label').toPandas()\n",
    "prediction = df_predicted.select('prediction').toPandas()"
   ]
  },
  {
   "cell_type": "code",
   "execution_count": 34,
   "metadata": {},
   "outputs": [
    {
     "data": {
      "text/plain": [
       "0.8945699831930243"
      ]
     },
     "execution_count": 34,
     "metadata": {},
     "output_type": "execute_result"
    }
   ],
   "source": [
    "metrics.accuracy_score(actual, prediction)"
   ]
  }
 ],
 "metadata": {
  "kernelspec": {
   "display_name": "Python 3.9.7 ('base')",
   "language": "python",
   "name": "python3"
  },
  "language_info": {
   "codemirror_mode": {
    "name": "ipython",
    "version": 3
   },
   "file_extension": ".py",
   "mimetype": "text/x-python",
   "name": "python",
   "nbconvert_exporter": "python",
   "pygments_lexer": "ipython3",
   "version": "3.9.7"
  },
  "orig_nbformat": 4,
  "vscode": {
   "interpreter": {
    "hash": "dc79205d6004f7d832ecc52c21573dee48d50986772725eb46055dbb7d7aeef2"
   }
  }
 },
 "nbformat": 4,
 "nbformat_minor": 2
}
