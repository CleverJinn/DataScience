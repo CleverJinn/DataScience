{
 "cells": [
  {
   "cell_type": "code",
   "execution_count": 104,
   "metadata": {},
   "outputs": [],
   "source": [
    "from pyspark.sql import SparkSession\n",
    "import pyspark.sql.functions as f\n",
    "import numpy as np"
   ]
  },
  {
   "cell_type": "code",
   "execution_count": 105,
   "metadata": {},
   "outputs": [],
   "source": [
    "import matplotlib.pyplot as plt\n",
    "import seaborn as sns"
   ]
  },
  {
   "cell_type": "code",
   "execution_count": 106,
   "metadata": {},
   "outputs": [],
   "source": [
    "from sklearn.preprocessing import LabelEncoder\n",
    "from sklearn.preprocessing import StandardScaler, MinMaxScaler, LabelBinarizer, OrdinalEncoder\n",
    "from imblearn.over_sampling import BorderlineSMOTE"
   ]
  },
  {
   "cell_type": "code",
   "execution_count": 107,
   "metadata": {},
   "outputs": [],
   "source": [
    "from sklearn.model_selection import train_test_split\n",
    "from sklearn.model_selection import cross_val_score"
   ]
  },
  {
   "cell_type": "code",
   "execution_count": 108,
   "metadata": {},
   "outputs": [],
   "source": [
    "from sklearn.metrics import classification_report, confusion_matrix, accuracy_score, roc_curve, roc_auc_score"
   ]
  },
  {
   "cell_type": "code",
   "execution_count": 109,
   "metadata": {},
   "outputs": [],
   "source": [
    "from IPython.display import display, HTML"
   ]
  },
  {
   "cell_type": "code",
   "execution_count": 110,
   "metadata": {},
   "outputs": [],
   "source": [
    "spark = SparkSession.builder.master('local').appName('BreastCancer').config('spark.executor.memory','6gb').getOrCreate()"
   ]
  },
  {
   "cell_type": "code",
   "execution_count": 111,
   "metadata": {},
   "outputs": [
    {
     "name": "stdout",
     "output_type": "stream",
     "text": [
      "+---+-----+---------+----------+---------+---------+---------+------+-----------+--------+--------------------+\n",
      "| id|  age|menopause|tumor-size|inv-nodes|node-caps|deg-malig|breast|breast-quad|irradiat|               Class|\n",
      "+---+-----+---------+----------+---------+---------+---------+------+-----------+--------+--------------------+\n",
      "|  1|40-49|  premeno|     25-29|    24-26|      yes|        3| right|    central|      no|   recurrence-events|\n",
      "|  2|40-49|  premeno|     25-29|      0-2|       no|        2|  left|   left_low|      no|no-recurrence-events|\n",
      "|  3|60-69|     lt40|     25-29|      0-2|       no|        2| right|   left_low|      no|no-recurrence-events|\n",
      "|  4|40-49|     ge40|     10-14|      0-2|       no|        3|  left|   left_low|      no|no-recurrence-events|\n",
      "|  5|40-49|  premeno|       5-9|      0-2|       no|        1| right|    central|      no|no-recurrence-events|\n",
      "|  6|50-59|     ge40|     20-24|      0-2|       no|        2| right|   left_low|      no|no-recurrence-events|\n",
      "|  7|40-49|  premeno|     45-49|      0-2|       no|        2| right|   left_low|      no|no-recurrence-events|\n",
      "|  8|40-49|  premeno|     30-34|      0-2|       no|        2| right|    left_up|      no|no-recurrence-events|\n",
      "|  9|50-59|     ge40|     40-44|      0-2|       no|        2| right|    left_up|      no|no-recurrence-events|\n",
      "| 10|30-39|  premeno|     25-29|      0-2|       no|        1| right|    left_up|     yes|   recurrence-events|\n",
      "+---+-----+---------+----------+---------+---------+---------+------+-----------+--------+--------------------+\n",
      "only showing top 10 rows\n",
      "\n"
     ]
    }
   ],
   "source": [
    "url = 'C:/Users/Dylan/Desktop/Datasets/result-breast-cancer.csv'\n",
    "df = spark.read.format('com.databricks.spark.csv').options(header='True', inferschema='True').load(url)\n",
    "df.show(10)"
   ]
  },
  {
   "cell_type": "code",
   "execution_count": 112,
   "metadata": {},
   "outputs": [
    {
     "data": {
      "text/html": [
       "<div>\n",
       "<style scoped>\n",
       "    .dataframe tbody tr th:only-of-type {\n",
       "        vertical-align: middle;\n",
       "    }\n",
       "\n",
       "    .dataframe tbody tr th {\n",
       "        vertical-align: top;\n",
       "    }\n",
       "\n",
       "    .dataframe thead th {\n",
       "        text-align: right;\n",
       "    }\n",
       "</style>\n",
       "<table border=\"1\" class=\"dataframe\">\n",
       "  <thead>\n",
       "    <tr style=\"text-align: right;\">\n",
       "      <th></th>\n",
       "      <th>id</th>\n",
       "      <th>age</th>\n",
       "      <th>menopause</th>\n",
       "      <th>tumor-size</th>\n",
       "      <th>inv-nodes</th>\n",
       "      <th>node-caps</th>\n",
       "      <th>deg-malig</th>\n",
       "      <th>breast</th>\n",
       "      <th>breast-quad</th>\n",
       "      <th>irradiat</th>\n",
       "      <th>Class</th>\n",
       "    </tr>\n",
       "  </thead>\n",
       "  <tbody>\n",
       "    <tr>\n",
       "      <th>0</th>\n",
       "      <td>1</td>\n",
       "      <td>40-49</td>\n",
       "      <td>premeno</td>\n",
       "      <td>25-29</td>\n",
       "      <td>24-26</td>\n",
       "      <td>yes</td>\n",
       "      <td>3</td>\n",
       "      <td>right</td>\n",
       "      <td>central</td>\n",
       "      <td>no</td>\n",
       "      <td>recurrence-events</td>\n",
       "    </tr>\n",
       "    <tr>\n",
       "      <th>1</th>\n",
       "      <td>2</td>\n",
       "      <td>40-49</td>\n",
       "      <td>premeno</td>\n",
       "      <td>25-29</td>\n",
       "      <td>0-2</td>\n",
       "      <td>no</td>\n",
       "      <td>2</td>\n",
       "      <td>left</td>\n",
       "      <td>left_low</td>\n",
       "      <td>no</td>\n",
       "      <td>no-recurrence-events</td>\n",
       "    </tr>\n",
       "    <tr>\n",
       "      <th>2</th>\n",
       "      <td>3</td>\n",
       "      <td>60-69</td>\n",
       "      <td>lt40</td>\n",
       "      <td>25-29</td>\n",
       "      <td>0-2</td>\n",
       "      <td>no</td>\n",
       "      <td>2</td>\n",
       "      <td>right</td>\n",
       "      <td>left_low</td>\n",
       "      <td>no</td>\n",
       "      <td>no-recurrence-events</td>\n",
       "    </tr>\n",
       "    <tr>\n",
       "      <th>3</th>\n",
       "      <td>4</td>\n",
       "      <td>40-49</td>\n",
       "      <td>ge40</td>\n",
       "      <td>10-14</td>\n",
       "      <td>0-2</td>\n",
       "      <td>no</td>\n",
       "      <td>3</td>\n",
       "      <td>left</td>\n",
       "      <td>left_low</td>\n",
       "      <td>no</td>\n",
       "      <td>no-recurrence-events</td>\n",
       "    </tr>\n",
       "    <tr>\n",
       "      <th>4</th>\n",
       "      <td>5</td>\n",
       "      <td>40-49</td>\n",
       "      <td>premeno</td>\n",
       "      <td>5-9</td>\n",
       "      <td>0-2</td>\n",
       "      <td>no</td>\n",
       "      <td>1</td>\n",
       "      <td>right</td>\n",
       "      <td>central</td>\n",
       "      <td>no</td>\n",
       "      <td>no-recurrence-events</td>\n",
       "    </tr>\n",
       "  </tbody>\n",
       "</table>\n",
       "</div>"
      ],
      "text/plain": [
       "   id    age menopause tumor-size inv-nodes node-caps  deg-malig breast  \\\n",
       "0   1  40-49   premeno      25-29     24-26       yes          3  right   \n",
       "1   2  40-49   premeno      25-29       0-2        no          2   left   \n",
       "2   3  60-69      lt40      25-29       0-2        no          2  right   \n",
       "3   4  40-49      ge40      10-14       0-2        no          3   left   \n",
       "4   5  40-49   premeno        5-9       0-2        no          1  right   \n",
       "\n",
       "  breast-quad irradiat                 Class  \n",
       "0     central       no     recurrence-events  \n",
       "1    left_low       no  no-recurrence-events  \n",
       "2    left_low       no  no-recurrence-events  \n",
       "3    left_low       no  no-recurrence-events  \n",
       "4     central       no  no-recurrence-events  "
      ]
     },
     "execution_count": 112,
     "metadata": {},
     "output_type": "execute_result"
    }
   ],
   "source": [
    "df = df.toPandas()\n",
    "df.head()"
   ]
  },
  {
   "cell_type": "code",
   "execution_count": 113,
   "metadata": {},
   "outputs": [
    {
     "data": {
      "text/html": [
       "<div>\n",
       "<style scoped>\n",
       "    .dataframe tbody tr th:only-of-type {\n",
       "        vertical-align: middle;\n",
       "    }\n",
       "\n",
       "    .dataframe tbody tr th {\n",
       "        vertical-align: top;\n",
       "    }\n",
       "\n",
       "    .dataframe thead th {\n",
       "        text-align: right;\n",
       "    }\n",
       "</style>\n",
       "<table border=\"1\" class=\"dataframe\">\n",
       "  <thead>\n",
       "    <tr style=\"text-align: right;\">\n",
       "      <th></th>\n",
       "      <th>age</th>\n",
       "      <th>menopause</th>\n",
       "      <th>tumor-size</th>\n",
       "      <th>inv-nodes</th>\n",
       "      <th>node-caps</th>\n",
       "      <th>deg-malig</th>\n",
       "      <th>breast</th>\n",
       "      <th>breast-quad</th>\n",
       "      <th>irradiat</th>\n",
       "      <th>Class</th>\n",
       "    </tr>\n",
       "  </thead>\n",
       "  <tbody>\n",
       "    <tr>\n",
       "      <th>0</th>\n",
       "      <td>40-49</td>\n",
       "      <td>premeno</td>\n",
       "      <td>25-29</td>\n",
       "      <td>24-26</td>\n",
       "      <td>yes</td>\n",
       "      <td>3</td>\n",
       "      <td>right</td>\n",
       "      <td>central</td>\n",
       "      <td>no</td>\n",
       "      <td>recurrence-events</td>\n",
       "    </tr>\n",
       "    <tr>\n",
       "      <th>1</th>\n",
       "      <td>40-49</td>\n",
       "      <td>premeno</td>\n",
       "      <td>25-29</td>\n",
       "      <td>0-2</td>\n",
       "      <td>no</td>\n",
       "      <td>2</td>\n",
       "      <td>left</td>\n",
       "      <td>left_low</td>\n",
       "      <td>no</td>\n",
       "      <td>no-recurrence-events</td>\n",
       "    </tr>\n",
       "    <tr>\n",
       "      <th>2</th>\n",
       "      <td>60-69</td>\n",
       "      <td>lt40</td>\n",
       "      <td>25-29</td>\n",
       "      <td>0-2</td>\n",
       "      <td>no</td>\n",
       "      <td>2</td>\n",
       "      <td>right</td>\n",
       "      <td>left_low</td>\n",
       "      <td>no</td>\n",
       "      <td>no-recurrence-events</td>\n",
       "    </tr>\n",
       "    <tr>\n",
       "      <th>3</th>\n",
       "      <td>40-49</td>\n",
       "      <td>ge40</td>\n",
       "      <td>10-14</td>\n",
       "      <td>0-2</td>\n",
       "      <td>no</td>\n",
       "      <td>3</td>\n",
       "      <td>left</td>\n",
       "      <td>left_low</td>\n",
       "      <td>no</td>\n",
       "      <td>no-recurrence-events</td>\n",
       "    </tr>\n",
       "    <tr>\n",
       "      <th>4</th>\n",
       "      <td>40-49</td>\n",
       "      <td>premeno</td>\n",
       "      <td>5-9</td>\n",
       "      <td>0-2</td>\n",
       "      <td>no</td>\n",
       "      <td>1</td>\n",
       "      <td>right</td>\n",
       "      <td>central</td>\n",
       "      <td>no</td>\n",
       "      <td>no-recurrence-events</td>\n",
       "    </tr>\n",
       "  </tbody>\n",
       "</table>\n",
       "</div>"
      ],
      "text/plain": [
       "     age menopause tumor-size inv-nodes node-caps  deg-malig breast  \\\n",
       "0  40-49   premeno      25-29     24-26       yes          3  right   \n",
       "1  40-49   premeno      25-29       0-2        no          2   left   \n",
       "2  60-69      lt40      25-29       0-2        no          2  right   \n",
       "3  40-49      ge40      10-14       0-2        no          3   left   \n",
       "4  40-49   premeno        5-9       0-2        no          1  right   \n",
       "\n",
       "  breast-quad irradiat                 Class  \n",
       "0     central       no     recurrence-events  \n",
       "1    left_low       no  no-recurrence-events  \n",
       "2    left_low       no  no-recurrence-events  \n",
       "3    left_low       no  no-recurrence-events  \n",
       "4     central       no  no-recurrence-events  "
      ]
     },
     "execution_count": 113,
     "metadata": {},
     "output_type": "execute_result"
    }
   ],
   "source": [
    "df = df.drop(['id'], axis=1)\n",
    "df.head()"
   ]
  },
  {
   "cell_type": "code",
   "execution_count": 114,
   "metadata": {},
   "outputs": [
    {
     "name": "stdout",
     "output_type": "stream",
     "text": [
      "<class 'pandas.core.frame.DataFrame'>\n",
      "RangeIndex: 1000000 entries, 0 to 999999\n",
      "Data columns (total 10 columns):\n",
      " #   Column       Non-Null Count    Dtype \n",
      "---  ------       --------------    ----- \n",
      " 0   age          1000000 non-null  object\n",
      " 1   menopause    1000000 non-null  object\n",
      " 2   tumor-size   1000000 non-null  object\n",
      " 3   inv-nodes    1000000 non-null  object\n",
      " 4   node-caps    1000000 non-null  object\n",
      " 5   deg-malig    1000000 non-null  int32 \n",
      " 6   breast       1000000 non-null  object\n",
      " 7   breast-quad  1000000 non-null  object\n",
      " 8   irradiat     1000000 non-null  object\n",
      " 9   Class        1000000 non-null  object\n",
      "dtypes: int32(1), object(9)\n",
      "memory usage: 72.5+ MB\n"
     ]
    }
   ],
   "source": [
    "df.info()"
   ]
  },
  {
   "cell_type": "code",
   "execution_count": 115,
   "metadata": {},
   "outputs": [
    {
     "data": {
      "text/html": [
       "<div>\n",
       "<style scoped>\n",
       "    .dataframe tbody tr th:only-of-type {\n",
       "        vertical-align: middle;\n",
       "    }\n",
       "\n",
       "    .dataframe tbody tr th {\n",
       "        vertical-align: top;\n",
       "    }\n",
       "\n",
       "    .dataframe thead th {\n",
       "        text-align: right;\n",
       "    }\n",
       "</style>\n",
       "<table border=\"1\" class=\"dataframe\">\n",
       "  <thead>\n",
       "    <tr style=\"text-align: right;\">\n",
       "      <th></th>\n",
       "      <th>deg-malig</th>\n",
       "    </tr>\n",
       "  </thead>\n",
       "  <tbody>\n",
       "    <tr>\n",
       "      <th>count</th>\n",
       "      <td>1000000.000000</td>\n",
       "    </tr>\n",
       "    <tr>\n",
       "      <th>mean</th>\n",
       "      <td>2.046974</td>\n",
       "    </tr>\n",
       "    <tr>\n",
       "      <th>std</th>\n",
       "      <td>0.737740</td>\n",
       "    </tr>\n",
       "    <tr>\n",
       "      <th>min</th>\n",
       "      <td>1.000000</td>\n",
       "    </tr>\n",
       "    <tr>\n",
       "      <th>25%</th>\n",
       "      <td>2.000000</td>\n",
       "    </tr>\n",
       "    <tr>\n",
       "      <th>50%</th>\n",
       "      <td>2.000000</td>\n",
       "    </tr>\n",
       "    <tr>\n",
       "      <th>75%</th>\n",
       "      <td>3.000000</td>\n",
       "    </tr>\n",
       "    <tr>\n",
       "      <th>max</th>\n",
       "      <td>3.000000</td>\n",
       "    </tr>\n",
       "  </tbody>\n",
       "</table>\n",
       "</div>"
      ],
      "text/plain": [
       "            deg-malig\n",
       "count  1000000.000000\n",
       "mean         2.046974\n",
       "std          0.737740\n",
       "min          1.000000\n",
       "25%          2.000000\n",
       "50%          2.000000\n",
       "75%          3.000000\n",
       "max          3.000000"
      ]
     },
     "execution_count": 115,
     "metadata": {},
     "output_type": "execute_result"
    }
   ],
   "source": [
    "df.describe()"
   ]
  },
  {
   "cell_type": "code",
   "execution_count": 116,
   "metadata": {},
   "outputs": [
    {
     "data": {
      "text/plain": [
       "(1000000, 10)"
      ]
     },
     "execution_count": 116,
     "metadata": {},
     "output_type": "execute_result"
    }
   ],
   "source": [
    "df.shape"
   ]
  },
  {
   "cell_type": "code",
   "execution_count": 117,
   "metadata": {},
   "outputs": [
    {
     "data": {
      "text/plain": [
       "age            0\n",
       "menopause      0\n",
       "tumor-size     0\n",
       "inv-nodes      0\n",
       "node-caps      0\n",
       "deg-malig      0\n",
       "breast         0\n",
       "breast-quad    0\n",
       "irradiat       0\n",
       "Class          0\n",
       "dtype: int64"
      ]
     },
     "execution_count": 117,
     "metadata": {},
     "output_type": "execute_result"
    },
    {
     "data": {
      "image/png": "[encoded data removed]",
      "text/plain": [
       "<Figure size 432x288 with 1 Axes>"
      ]
     },
     "metadata": {
      "needs_background": "light"
     },
     "output_type": "display_data"
    }
   ],
   "source": [
    "sns.heatmap(df.isnull(), yticklabels=False, cbar=False, cmap='viridis')\n",
    "df.isnull().sum()"
   ]
  },
  {
   "cell_type": "code",
   "execution_count": 118,
   "metadata": {},
   "outputs": [
    {
     "data": {
      "text/plain": [
       "905913"
      ]
     },
     "execution_count": 118,
     "metadata": {},
     "output_type": "execute_result"
    }
   ],
   "source": [
    "len(df)-len(df.drop_duplicates())"
   ]
  },
  {
   "cell_type": "code",
   "execution_count": 119,
   "metadata": {},
   "outputs": [
    {
     "data": {
      "text/plain": [
       "no-recurrence-events    702823\n",
       "recurrence-events       297177\n",
       "Name: Class, dtype: int64"
      ]
     },
     "execution_count": 119,
     "metadata": {},
     "output_type": "execute_result"
    },
    {
     "data": {
      "image/png": "[encoded data removed]",
      "text/plain": [
       "<Figure size 576x576 with 1 Axes>"
      ]
     },
     "metadata": {
      "needs_background": "light"
     },
     "output_type": "display_data"
    }
   ],
   "source": [
    "fig = plt.subplots(figsize=(8,8))\n",
    "sns.countplot(x=df['Class'])\n",
    "df['Class'].value_counts()"
   ]
  },
  {
   "cell_type": "code",
   "execution_count": 120,
   "metadata": {},
   "outputs": [
    {
     "data": {
      "text/plain": [
       "Index(['age', 'menopause', 'tumor-size', 'inv-nodes', 'node-caps', 'deg-malig',\n",
       "       'breast', 'breast-quad', 'irradiat', 'Class'],\n",
       "      dtype='object')"
      ]
     },
     "execution_count": 120,
     "metadata": {},
     "output_type": "execute_result"
    }
   ],
   "source": [
    "df.columns"
   ]
  },
  {
   "cell_type": "code",
   "execution_count": 121,
   "metadata": {},
   "outputs": [],
   "source": [
    "Categorical_features = ['age', 'menopause', 'tumor-size', 'inv-nodes', 'node-caps','breast', 'breast-quad', 'irradiat']\n",
    "Numerical_features = ['deg-malig']\n",
    "target = ['Class']"
   ]
  },
  {
   "cell_type": "code",
   "execution_count": 122,
   "metadata": {},
   "outputs": [
    {
     "data": {
      "image/png": "[encoded data removed]",
      "text/plain": [
       "<Figure size 719.25x576 with 1 Axes>"
      ]
     },
     "metadata": {
      "needs_background": "light"
     },
     "output_type": "display_data"
    },
    {
     "data": {
      "image/png": "[encoded data removed]",
      "text/plain": [
       "<Figure size 719.25x576 with 1 Axes>"
      ]
     },
     "metadata": {
      "needs_background": "light"
     },
     "output_type": "display_data"
    },
    {
     "data": {
      "image/png": "[encoded data removed]",
      "text/plain": [
       "<Figure size 719.25x576 with 1 Axes>"
      ]
     },
     "metadata": {
      "needs_background": "light"
     },
     "output_type": "display_data"
    },
    {
     "data": {
      "image/png": "[encoded data removed]",
      "text/plain": [
       "<Figure size 719.25x576 with 1 Axes>"
      ]
     },
     "metadata": {
      "needs_background": "light"
     },
     "output_type": "display_data"
    },
    {
     "data": {
      "image/png": "[encoded data removed]",
      "text/plain": [
       "<Figure size 719.25x576 with 1 Axes>"
      ]
     },
     "metadata": {
      "needs_background": "light"
     },
     "output_type": "display_data"
    },
    {
     "data": {
      "image/png": "[encoded data removed]",
      "text/plain": [
       "<Figure size 719.25x576 with 1 Axes>"
      ]
     },
     "metadata": {
      "needs_background": "light"
     },
     "output_type": "display_data"
    },
    {
     "data": {
      "image/png": "[encoded data removed]",
      "text/plain": [
       "<Figure size 719.25x576 with 1 Axes>"
      ]
     },
     "metadata": {
      "needs_background": "light"
     },
     "output_type": "display_data"
    },
    {
     "data": {
      "image/png": "[encoded data removed]",
      "text/plain": [
       "<Figure size 719.25x576 with 1 Axes>"
      ]
     },
     "metadata": {
      "needs_background": "light"
     },
     "output_type": "display_data"
    }
   ],
   "source": [
    "for col in Categorical_features:\n",
    "    fig = sns.catplot(data=df, y=col, hue='Class', kind='count', orient='V', height=8)\n",
    "    fig.set_xticklabels(rotation=30)\n",
    "    plt.show()"
   ]
  },
  {
   "cell_type": "code",
   "execution_count": 123,
   "metadata": {},
   "outputs": [
    {
     "data": {
      "text/plain": [
       "<Figure size 1296x720 with 0 Axes>"
      ]
     },
     "metadata": {},
     "output_type": "display_data"
    },
    {
     "data": {
      "image/png": "[encoded data removed]",
      "text/plain": [
       "<Figure size 360x360 with 1 Axes>"
      ]
     },
     "metadata": {
      "needs_background": "light"
     },
     "output_type": "display_data"
    }
   ],
   "source": [
    "for col in Numerical_features:\n",
    "    plt.figure(figsize=(18,10))\n",
    "    sns.displot(df[col], color='red', label=col, kde=True)\n",
    "    plt.legend()"
   ]
  },
  {
   "cell_type": "code",
   "execution_count": 124,
   "metadata": {},
   "outputs": [
    {
     "data": {
      "image/png": "[encoded data removed]",
      "text/plain": [
       "<Figure size 719.25x576 with 1 Axes>"
      ]
     },
     "metadata": {
      "needs_background": "light"
     },
     "output_type": "display_data"
    }
   ],
   "source": [
    "fig = sns.catplot(data=df, y='deg-malig', hue='Class', kind='count', orient='V', height=8)\n",
    "fig.set_xticklabels(rotation=30)\n",
    "plt.show()"
   ]
  },
  {
   "cell_type": "code",
   "execution_count": 125,
   "metadata": {},
   "outputs": [],
   "source": [
    "Categorical_features = ['age', 'menopause', 'tumor-size', 'inv-nodes', 'node-caps','breast', 'breast-quad', 'irradiat','Class']\n",
    "for x in Categorical_features:\n",
    "    df[x] = LabelEncoder().fit_transform(df[x])"
   ]
  },
  {
   "cell_type": "code",
   "execution_count": 126,
   "metadata": {},
   "outputs": [
    {
     "data": {
      "text/html": [
       "<div>\n",
       "<style scoped>\n",
       "    .dataframe tbody tr th:only-of-type {\n",
       "        vertical-align: middle;\n",
       "    }\n",
       "\n",
       "    .dataframe tbody tr th {\n",
       "        vertical-align: top;\n",
       "    }\n",
       "\n",
       "    .dataframe thead th {\n",
       "        text-align: right;\n",
       "    }\n",
       "</style>\n",
       "<table border=\"1\" class=\"dataframe\">\n",
       "  <thead>\n",
       "    <tr style=\"text-align: right;\">\n",
       "      <th></th>\n",
       "      <th>age</th>\n",
       "      <th>menopause</th>\n",
       "      <th>tumor-size</th>\n",
       "      <th>inv-nodes</th>\n",
       "      <th>node-caps</th>\n",
       "      <th>deg-malig</th>\n",
       "      <th>breast</th>\n",
       "      <th>breast-quad</th>\n",
       "      <th>irradiat</th>\n",
       "      <th>Class</th>\n",
       "    </tr>\n",
       "  </thead>\n",
       "  <tbody>\n",
       "    <tr>\n",
       "      <th>0</th>\n",
       "      <td>3</td>\n",
       "      <td>2</td>\n",
       "      <td>4</td>\n",
       "      <td>5</td>\n",
       "      <td>1</td>\n",
       "      <td>3</td>\n",
       "      <td>1</td>\n",
       "      <td>0</td>\n",
       "      <td>0</td>\n",
       "      <td>1</td>\n",
       "    </tr>\n",
       "    <tr>\n",
       "      <th>1</th>\n",
       "      <td>3</td>\n",
       "      <td>2</td>\n",
       "      <td>4</td>\n",
       "      <td>0</td>\n",
       "      <td>0</td>\n",
       "      <td>2</td>\n",
       "      <td>0</td>\n",
       "      <td>1</td>\n",
       "      <td>0</td>\n",
       "      <td>0</td>\n",
       "    </tr>\n",
       "    <tr>\n",
       "      <th>2</th>\n",
       "      <td>5</td>\n",
       "      <td>1</td>\n",
       "      <td>4</td>\n",
       "      <td>0</td>\n",
       "      <td>0</td>\n",
       "      <td>2</td>\n",
       "      <td>1</td>\n",
       "      <td>1</td>\n",
       "      <td>0</td>\n",
       "      <td>0</td>\n",
       "    </tr>\n",
       "    <tr>\n",
       "      <th>3</th>\n",
       "      <td>3</td>\n",
       "      <td>0</td>\n",
       "      <td>1</td>\n",
       "      <td>0</td>\n",
       "      <td>0</td>\n",
       "      <td>3</td>\n",
       "      <td>0</td>\n",
       "      <td>1</td>\n",
       "      <td>0</td>\n",
       "      <td>0</td>\n",
       "    </tr>\n",
       "    <tr>\n",
       "      <th>4</th>\n",
       "      <td>3</td>\n",
       "      <td>2</td>\n",
       "      <td>9</td>\n",
       "      <td>0</td>\n",
       "      <td>0</td>\n",
       "      <td>1</td>\n",
       "      <td>1</td>\n",
       "      <td>0</td>\n",
       "      <td>0</td>\n",
       "      <td>0</td>\n",
       "    </tr>\n",
       "  </tbody>\n",
       "</table>\n",
       "</div>"
      ],
      "text/plain": [
       "   age  menopause  tumor-size  inv-nodes  node-caps  deg-malig  breast  \\\n",
       "0    3          2           4          5          1          3       1   \n",
       "1    3          2           4          0          0          2       0   \n",
       "2    5          1           4          0          0          2       1   \n",
       "3    3          0           1          0          0          3       0   \n",
       "4    3          2           9          0          0          1       1   \n",
       "\n",
       "   breast-quad  irradiat  Class  \n",
       "0            0         0      1  \n",
       "1            1         0      0  \n",
       "2            1         0      0  \n",
       "3            1         0      0  \n",
       "4            0         0      0  "
      ]
     },
     "execution_count": 126,
     "metadata": {},
     "output_type": "execute_result"
    }
   ],
   "source": [
    "df.head()"
   ]
  },
  {
   "cell_type": "code",
   "execution_count": 127,
   "metadata": {},
   "outputs": [
    {
     "data": {
      "text/html": [
       "<div>\n",
       "<style scoped>\n",
       "    .dataframe tbody tr th:only-of-type {\n",
       "        vertical-align: middle;\n",
       "    }\n",
       "\n",
       "    .dataframe tbody tr th {\n",
       "        vertical-align: top;\n",
       "    }\n",
       "\n",
       "    .dataframe thead th {\n",
       "        text-align: right;\n",
       "    }\n",
       "</style>\n",
       "<table border=\"1\" class=\"dataframe\">\n",
       "  <thead>\n",
       "    <tr style=\"text-align: right;\">\n",
       "      <th></th>\n",
       "      <th>age</th>\n",
       "      <th>menopause</th>\n",
       "      <th>tumor-size</th>\n",
       "      <th>inv-nodes</th>\n",
       "      <th>node-caps</th>\n",
       "      <th>deg-malig</th>\n",
       "      <th>breast</th>\n",
       "      <th>breast-quad</th>\n",
       "      <th>irradiat</th>\n",
       "      <th>Class</th>\n",
       "    </tr>\n",
       "  </thead>\n",
       "  <tbody>\n",
       "    <tr>\n",
       "      <th>count</th>\n",
       "      <td>1000000.000000</td>\n",
       "      <td>1000000.000000</td>\n",
       "      <td>1000000.000000</td>\n",
       "      <td>1000000.000000</td>\n",
       "      <td>1000000.000000</td>\n",
       "      <td>1000000.000000</td>\n",
       "      <td>1000000.000000</td>\n",
       "      <td>1000000.000000</td>\n",
       "      <td>1000000.000000</td>\n",
       "      <td>1000000.000000</td>\n",
       "    </tr>\n",
       "    <tr>\n",
       "      <th>mean</th>\n",
       "      <td>3.674895</td>\n",
       "      <td>1.070332</td>\n",
       "      <td>4.113922</td>\n",
       "      <td>2.179725</td>\n",
       "      <td>0.206122</td>\n",
       "      <td>2.046974</td>\n",
       "      <td>0.469200</td>\n",
       "      <td>1.787228</td>\n",
       "      <td>0.247554</td>\n",
       "      <td>0.297177</td>\n",
       "    </tr>\n",
       "    <tr>\n",
       "      <th>std</th>\n",
       "      <td>1.092079</td>\n",
       "      <td>0.975427</td>\n",
       "      <td>2.233561</td>\n",
       "      <td>3.877630</td>\n",
       "      <td>0.404519</td>\n",
       "      <td>0.737740</td>\n",
       "      <td>0.499051</td>\n",
       "      <td>1.098555</td>\n",
       "      <td>0.431591</td>\n",
       "      <td>0.457015</td>\n",
       "    </tr>\n",
       "    <tr>\n",
       "      <th>min</th>\n",
       "      <td>0.000000</td>\n",
       "      <td>0.000000</td>\n",
       "      <td>0.000000</td>\n",
       "      <td>0.000000</td>\n",
       "      <td>0.000000</td>\n",
       "      <td>1.000000</td>\n",
       "      <td>0.000000</td>\n",
       "      <td>0.000000</td>\n",
       "      <td>0.000000</td>\n",
       "      <td>0.000000</td>\n",
       "    </tr>\n",
       "    <tr>\n",
       "      <th>25%</th>\n",
       "      <td>3.000000</td>\n",
       "      <td>0.000000</td>\n",
       "      <td>3.000000</td>\n",
       "      <td>0.000000</td>\n",
       "      <td>0.000000</td>\n",
       "      <td>2.000000</td>\n",
       "      <td>0.000000</td>\n",
       "      <td>1.000000</td>\n",
       "      <td>0.000000</td>\n",
       "      <td>0.000000</td>\n",
       "    </tr>\n",
       "    <tr>\n",
       "      <th>50%</th>\n",
       "      <td>4.000000</td>\n",
       "      <td>2.000000</td>\n",
       "      <td>4.000000</td>\n",
       "      <td>0.000000</td>\n",
       "      <td>0.000000</td>\n",
       "      <td>2.000000</td>\n",
       "      <td>0.000000</td>\n",
       "      <td>2.000000</td>\n",
       "      <td>0.000000</td>\n",
       "      <td>0.000000</td>\n",
       "    </tr>\n",
       "    <tr>\n",
       "      <th>75%</th>\n",
       "      <td>4.000000</td>\n",
       "      <td>2.000000</td>\n",
       "      <td>5.000000</td>\n",
       "      <td>2.000000</td>\n",
       "      <td>0.000000</td>\n",
       "      <td>3.000000</td>\n",
       "      <td>1.000000</td>\n",
       "      <td>2.000000</td>\n",
       "      <td>0.000000</td>\n",
       "      <td>1.000000</td>\n",
       "    </tr>\n",
       "    <tr>\n",
       "      <th>max</th>\n",
       "      <td>8.000000</td>\n",
       "      <td>2.000000</td>\n",
       "      <td>11.000000</td>\n",
       "      <td>12.000000</td>\n",
       "      <td>1.000000</td>\n",
       "      <td>3.000000</td>\n",
       "      <td>1.000000</td>\n",
       "      <td>4.000000</td>\n",
       "      <td>1.000000</td>\n",
       "      <td>1.000000</td>\n",
       "    </tr>\n",
       "  </tbody>\n",
       "</table>\n",
       "</div>"
      ],
      "text/plain": [
       "                  age       menopause      tumor-size       inv-nodes  \\\n",
       "count  1000000.000000  1000000.000000  1000000.000000  1000000.000000   \n",
       "mean         3.674895        1.070332        4.113922        2.179725   \n",
       "std          1.092079        0.975427        2.233561        3.877630   \n",
       "min          0.000000        0.000000        0.000000        0.000000   \n",
       "25%          3.000000        0.000000        3.000000        0.000000   \n",
       "50%          4.000000        2.000000        4.000000        0.000000   \n",
       "75%          4.000000        2.000000        5.000000        2.000000   \n",
       "max          8.000000        2.000000       11.000000       12.000000   \n",
       "\n",
       "            node-caps       deg-malig          breast     breast-quad  \\\n",
       "count  1000000.000000  1000000.000000  1000000.000000  1000000.000000   \n",
       "mean         0.206122        2.046974        0.469200        1.787228   \n",
       "std          0.404519        0.737740        0.499051        1.098555   \n",
       "min          0.000000        1.000000        0.000000        0.000000   \n",
       "25%          0.000000        2.000000        0.000000        1.000000   \n",
       "50%          0.000000        2.000000        0.000000        2.000000   \n",
       "75%          0.000000        3.000000        1.000000        2.000000   \n",
       "max          1.000000        3.000000        1.000000        4.000000   \n",
       "\n",
       "             irradiat           Class  \n",
       "count  1000000.000000  1000000.000000  \n",
       "mean         0.247554        0.297177  \n",
       "std          0.431591        0.457015  \n",
       "min          0.000000        0.000000  \n",
       "25%          0.000000        0.000000  \n",
       "50%          0.000000        0.000000  \n",
       "75%          0.000000        1.000000  \n",
       "max          1.000000        1.000000  "
      ]
     },
     "execution_count": 127,
     "metadata": {},
     "output_type": "execute_result"
    }
   ],
   "source": [
    "df.describe()"
   ]
  },
  {
   "cell_type": "code",
   "execution_count": 128,
   "metadata": {},
   "outputs": [
    {
     "data": {
      "text/html": [
       "<div>\n",
       "<style scoped>\n",
       "    .dataframe tbody tr th:only-of-type {\n",
       "        vertical-align: middle;\n",
       "    }\n",
       "\n",
       "    .dataframe tbody tr th {\n",
       "        vertical-align: top;\n",
       "    }\n",
       "\n",
       "    .dataframe thead th {\n",
       "        text-align: right;\n",
       "    }\n",
       "</style>\n",
       "<table border=\"1\" class=\"dataframe\">\n",
       "  <thead>\n",
       "    <tr style=\"text-align: right;\">\n",
       "      <th></th>\n",
       "      <th>age</th>\n",
       "      <th>menopause</th>\n",
       "      <th>tumor-size</th>\n",
       "      <th>inv-nodes</th>\n",
       "      <th>node-caps</th>\n",
       "      <th>deg-malig</th>\n",
       "      <th>breast</th>\n",
       "      <th>breast-quad</th>\n",
       "      <th>irradiat</th>\n",
       "      <th>Class</th>\n",
       "    </tr>\n",
       "  </thead>\n",
       "  <tbody>\n",
       "    <tr>\n",
       "      <th>age</th>\n",
       "      <td>1.000000</td>\n",
       "      <td>-0.620075</td>\n",
       "      <td>-0.007442</td>\n",
       "      <td>-0.018245</td>\n",
       "      <td>-0.017067</td>\n",
       "      <td>-0.016893</td>\n",
       "      <td>0.002483</td>\n",
       "      <td>-0.002215</td>\n",
       "      <td>-0.013629</td>\n",
       "      <td>-0.060091</td>\n",
       "    </tr>\n",
       "    <tr>\n",
       "      <th>menopause</th>\n",
       "      <td>-0.620075</td>\n",
       "      <td>1.000000</td>\n",
       "      <td>0.006553</td>\n",
       "      <td>0.015832</td>\n",
       "      <td>0.015226</td>\n",
       "      <td>0.014009</td>\n",
       "      <td>-0.002750</td>\n",
       "      <td>0.000997</td>\n",
       "      <td>0.011186</td>\n",
       "      <td>0.050246</td>\n",
       "    </tr>\n",
       "    <tr>\n",
       "      <th>tumor-size</th>\n",
       "      <td>-0.007442</td>\n",
       "      <td>0.006553</td>\n",
       "      <td>1.000000</td>\n",
       "      <td>0.036830</td>\n",
       "      <td>0.034664</td>\n",
       "      <td>0.037576</td>\n",
       "      <td>-0.008544</td>\n",
       "      <td>0.004872</td>\n",
       "      <td>0.024006</td>\n",
       "      <td>0.129071</td>\n",
       "    </tr>\n",
       "    <tr>\n",
       "      <th>inv-nodes</th>\n",
       "      <td>-0.018245</td>\n",
       "      <td>0.015832</td>\n",
       "      <td>0.036830</td>\n",
       "      <td>1.000000</td>\n",
       "      <td>0.579048</td>\n",
       "      <td>0.209612</td>\n",
       "      <td>-0.017017</td>\n",
       "      <td>0.014317</td>\n",
       "      <td>0.357037</td>\n",
       "      <td>0.283772</td>\n",
       "    </tr>\n",
       "    <tr>\n",
       "      <th>node-caps</th>\n",
       "      <td>-0.017067</td>\n",
       "      <td>0.015226</td>\n",
       "      <td>0.034664</td>\n",
       "      <td>0.579048</td>\n",
       "      <td>1.000000</td>\n",
       "      <td>0.313255</td>\n",
       "      <td>-0.016379</td>\n",
       "      <td>0.013004</td>\n",
       "      <td>0.295931</td>\n",
       "      <td>0.261794</td>\n",
       "    </tr>\n",
       "    <tr>\n",
       "      <th>deg-malig</th>\n",
       "      <td>-0.016893</td>\n",
       "      <td>0.014009</td>\n",
       "      <td>0.037576</td>\n",
       "      <td>0.209612</td>\n",
       "      <td>0.313255</td>\n",
       "      <td>1.000000</td>\n",
       "      <td>-0.017031</td>\n",
       "      <td>0.013650</td>\n",
       "      <td>0.114991</td>\n",
       "      <td>0.288181</td>\n",
       "    </tr>\n",
       "    <tr>\n",
       "      <th>breast</th>\n",
       "      <td>0.002483</td>\n",
       "      <td>-0.002750</td>\n",
       "      <td>-0.008544</td>\n",
       "      <td>-0.017017</td>\n",
       "      <td>-0.016379</td>\n",
       "      <td>-0.017031</td>\n",
       "      <td>1.000000</td>\n",
       "      <td>0.200861</td>\n",
       "      <td>-0.011957</td>\n",
       "      <td>-0.057931</td>\n",
       "    </tr>\n",
       "    <tr>\n",
       "      <th>breast-quad</th>\n",
       "      <td>-0.002215</td>\n",
       "      <td>0.000997</td>\n",
       "      <td>0.004872</td>\n",
       "      <td>0.014317</td>\n",
       "      <td>0.013004</td>\n",
       "      <td>0.013650</td>\n",
       "      <td>0.200861</td>\n",
       "      <td>1.000000</td>\n",
       "      <td>0.009383</td>\n",
       "      <td>0.048598</td>\n",
       "    </tr>\n",
       "    <tr>\n",
       "      <th>irradiat</th>\n",
       "      <td>-0.013629</td>\n",
       "      <td>0.011186</td>\n",
       "      <td>0.024006</td>\n",
       "      <td>0.357037</td>\n",
       "      <td>0.295931</td>\n",
       "      <td>0.114991</td>\n",
       "      <td>-0.011957</td>\n",
       "      <td>0.009383</td>\n",
       "      <td>1.000000</td>\n",
       "      <td>0.190184</td>\n",
       "    </tr>\n",
       "    <tr>\n",
       "      <th>Class</th>\n",
       "      <td>-0.060091</td>\n",
       "      <td>0.050246</td>\n",
       "      <td>0.129071</td>\n",
       "      <td>0.283772</td>\n",
       "      <td>0.261794</td>\n",
       "      <td>0.288181</td>\n",
       "      <td>-0.057931</td>\n",
       "      <td>0.048598</td>\n",
       "      <td>0.190184</td>\n",
       "      <td>1.000000</td>\n",
       "    </tr>\n",
       "  </tbody>\n",
       "</table>\n",
       "</div>"
      ],
      "text/plain": [
       "                  age  menopause  tumor-size  inv-nodes  node-caps  deg-malig  \\\n",
       "age          1.000000  -0.620075   -0.007442  -0.018245  -0.017067  -0.016893   \n",
       "menopause   -0.620075   1.000000    0.006553   0.015832   0.015226   0.014009   \n",
       "tumor-size  -0.007442   0.006553    1.000000   0.036830   0.034664   0.037576   \n",
       "inv-nodes   -0.018245   0.015832    0.036830   1.000000   0.579048   0.209612   \n",
       "node-caps   -0.017067   0.015226    0.034664   0.579048   1.000000   0.313255   \n",
       "deg-malig   -0.016893   0.014009    0.037576   0.209612   0.313255   1.000000   \n",
       "breast       0.002483  -0.002750   -0.008544  -0.017017  -0.016379  -0.017031   \n",
       "breast-quad -0.002215   0.000997    0.004872   0.014317   0.013004   0.013650   \n",
       "irradiat    -0.013629   0.011186    0.024006   0.357037   0.295931   0.114991   \n",
       "Class       -0.060091   0.050246    0.129071   0.283772   0.261794   0.288181   \n",
       "\n",
       "               breast  breast-quad  irradiat     Class  \n",
       "age          0.002483    -0.002215 -0.013629 -0.060091  \n",
       "menopause   -0.002750     0.000997  0.011186  0.050246  \n",
       "tumor-size  -0.008544     0.004872  0.024006  0.129071  \n",
       "inv-nodes   -0.017017     0.014317  0.357037  0.283772  \n",
       "node-caps   -0.016379     0.013004  0.295931  0.261794  \n",
       "deg-malig   -0.017031     0.013650  0.114991  0.288181  \n",
       "breast       1.000000     0.200861 -0.011957 -0.057931  \n",
       "breast-quad  0.200861     1.000000  0.009383  0.048598  \n",
       "irradiat    -0.011957     0.009383  1.000000  0.190184  \n",
       "Class       -0.057931     0.048598  0.190184  1.000000  "
      ]
     },
     "execution_count": 128,
     "metadata": {},
     "output_type": "execute_result"
    }
   ],
   "source": [
    "df.corr()"
   ]
  },
  {
   "cell_type": "code",
   "execution_count": 129,
   "metadata": {},
   "outputs": [
    {
     "data": {
      "text/plain": [
       "<AxesSubplot:>"
      ]
     },
     "execution_count": 129,
     "metadata": {},
     "output_type": "execute_result"
    },
    {
     "data": {
      "image/png": "[encoded data removed]",
      "text/plain": [
       "<Figure size 1296x432 with 2 Axes>"
      ]
     },
     "metadata": {
      "needs_background": "light"
     },
     "output_type": "display_data"
    }
   ],
   "source": [
    "fig = plt.subplots(figsize=(18,6))\n",
    "sns.heatmap(df.corr(),annot=True)"
   ]
  },
  {
   "cell_type": "code",
   "execution_count": 130,
   "metadata": {},
   "outputs": [
    {
     "data": {
      "text/plain": [
       "Index(['age', 'menopause', 'tumor-size', 'inv-nodes', 'node-caps', 'deg-malig',\n",
       "       'breast', 'breast-quad', 'irradiat', 'Class'],\n",
       "      dtype='object')"
      ]
     },
     "execution_count": 130,
     "metadata": {},
     "output_type": "execute_result"
    }
   ],
   "source": [
    "df.columns"
   ]
  },
  {
   "cell_type": "code",
   "execution_count": 131,
   "metadata": {},
   "outputs": [
    {
     "data": {
      "text/plain": [
       "0    1\n",
       "1    0\n",
       "2    0\n",
       "3    0\n",
       "4    0\n",
       "Name: Class, dtype: int32"
      ]
     },
     "execution_count": 131,
     "metadata": {},
     "output_type": "execute_result"
    }
   ],
   "source": [
    "y = df['Class']\n",
    "y.head()"
   ]
  },
  {
   "cell_type": "code",
   "execution_count": 132,
   "metadata": {},
   "outputs": [
    {
     "data": {
      "text/html": [
       "<div>\n",
       "<style scoped>\n",
       "    .dataframe tbody tr th:only-of-type {\n",
       "        vertical-align: middle;\n",
       "    }\n",
       "\n",
       "    .dataframe tbody tr th {\n",
       "        vertical-align: top;\n",
       "    }\n",
       "\n",
       "    .dataframe thead th {\n",
       "        text-align: right;\n",
       "    }\n",
       "</style>\n",
       "<table border=\"1\" class=\"dataframe\">\n",
       "  <thead>\n",
       "    <tr style=\"text-align: right;\">\n",
       "      <th></th>\n",
       "      <th>age</th>\n",
       "      <th>menopause</th>\n",
       "      <th>tumor-size</th>\n",
       "      <th>inv-nodes</th>\n",
       "      <th>node-caps</th>\n",
       "      <th>deg-malig</th>\n",
       "      <th>breast</th>\n",
       "      <th>breast-quad</th>\n",
       "      <th>irradiat</th>\n",
       "    </tr>\n",
       "  </thead>\n",
       "  <tbody>\n",
       "    <tr>\n",
       "      <th>0</th>\n",
       "      <td>3</td>\n",
       "      <td>2</td>\n",
       "      <td>4</td>\n",
       "      <td>5</td>\n",
       "      <td>1</td>\n",
       "      <td>3</td>\n",
       "      <td>1</td>\n",
       "      <td>0</td>\n",
       "      <td>0</td>\n",
       "    </tr>\n",
       "    <tr>\n",
       "      <th>1</th>\n",
       "      <td>3</td>\n",
       "      <td>2</td>\n",
       "      <td>4</td>\n",
       "      <td>0</td>\n",
       "      <td>0</td>\n",
       "      <td>2</td>\n",
       "      <td>0</td>\n",
       "      <td>1</td>\n",
       "      <td>0</td>\n",
       "    </tr>\n",
       "    <tr>\n",
       "      <th>2</th>\n",
       "      <td>5</td>\n",
       "      <td>1</td>\n",
       "      <td>4</td>\n",
       "      <td>0</td>\n",
       "      <td>0</td>\n",
       "      <td>2</td>\n",
       "      <td>1</td>\n",
       "      <td>1</td>\n",
       "      <td>0</td>\n",
       "    </tr>\n",
       "    <tr>\n",
       "      <th>3</th>\n",
       "      <td>3</td>\n",
       "      <td>0</td>\n",
       "      <td>1</td>\n",
       "      <td>0</td>\n",
       "      <td>0</td>\n",
       "      <td>3</td>\n",
       "      <td>0</td>\n",
       "      <td>1</td>\n",
       "      <td>0</td>\n",
       "    </tr>\n",
       "    <tr>\n",
       "      <th>4</th>\n",
       "      <td>3</td>\n",
       "      <td>2</td>\n",
       "      <td>9</td>\n",
       "      <td>0</td>\n",
       "      <td>0</td>\n",
       "      <td>1</td>\n",
       "      <td>1</td>\n",
       "      <td>0</td>\n",
       "      <td>0</td>\n",
       "    </tr>\n",
       "  </tbody>\n",
       "</table>\n",
       "</div>"
      ],
      "text/plain": [
       "   age  menopause  tumor-size  inv-nodes  node-caps  deg-malig  breast  \\\n",
       "0    3          2           4          5          1          3       1   \n",
       "1    3          2           4          0          0          2       0   \n",
       "2    5          1           4          0          0          2       1   \n",
       "3    3          0           1          0          0          3       0   \n",
       "4    3          2           9          0          0          1       1   \n",
       "\n",
       "   breast-quad  irradiat  \n",
       "0            0         0  \n",
       "1            1         0  \n",
       "2            1         0  \n",
       "3            1         0  \n",
       "4            0         0  "
      ]
     },
     "execution_count": 132,
     "metadata": {},
     "output_type": "execute_result"
    }
   ],
   "source": [
    "X = df[['age', 'menopause', 'tumor-size', 'inv-nodes', 'node-caps', 'deg-malig',\n",
    "       'breast', 'breast-quad', 'irradiat']]\n",
    "X.head()"
   ]
  },
  {
   "cell_type": "code",
   "execution_count": 133,
   "metadata": {},
   "outputs": [
    {
     "name": "stdout",
     "output_type": "stream",
     "text": [
      "[[-0.61799121  0.95308845 -0.05100468 ...  1.0636199  -1.62689055\n",
      "  -0.57358437]\n",
      " [-0.61799121  0.95308845 -0.05100468 ... -0.94018549 -0.71660347\n",
      "  -0.57358437]\n",
      " [ 1.21337874 -0.07210382 -0.05100468 ...  1.0636199  -0.71660347\n",
      "  -0.57358437]\n",
      " ...\n",
      " [-0.61799121  0.95308845 -0.05100468 ... -0.94018549  0.1936836\n",
      "   1.74342269]\n",
      " [ 0.29769377 -1.09729609 -0.49872045 ...  1.0636199  -0.71660347\n",
      "   1.74342269]\n",
      " [-1.53367619  0.95308845 -1.84186778 ... -0.94018549  0.1936836\n",
      "  -0.57358437]]\n"
     ]
    }
   ],
   "source": [
    "scaler = StandardScaler()\n",
    "X = scaler.fit_transform(X)\n",
    "print(X)"
   ]
  },
  {
   "cell_type": "code",
   "execution_count": 134,
   "metadata": {},
   "outputs": [],
   "source": [
    "X_train, X_test, y_train, y_test = train_test_split(\n",
    "    X, y, test_size=0.2, random_state=0\n",
    "    )"
   ]
  },
  {
   "cell_type": "code",
   "execution_count": 135,
   "metadata": {},
   "outputs": [
    {
     "data": {
      "text/plain": [
       "<AxesSubplot:xlabel='Class', ylabel='count'>"
      ]
     },
     "execution_count": 135,
     "metadata": {},
     "output_type": "execute_result"
    },
    {
     "data": {
      "image/png": "[encoded data removed]",
      "text/plain": [
       "<Figure size 432x288 with 1 Axes>"
      ]
     },
     "metadata": {
      "needs_background": "light"
     },
     "output_type": "display_data"
    }
   ],
   "source": [
    "sns.countplot(x=y_train)"
   ]
  },
  {
   "cell_type": "code",
   "execution_count": 136,
   "metadata": {},
   "outputs": [],
   "source": [
    "borderlineSMOTE = BorderlineSMOTE(k_neighbors= 25, random_state=0)\n",
    "X_train, y_train = borderlineSMOTE.fit_resample(X_train,y_train)"
   ]
  },
  {
   "cell_type": "code",
   "execution_count": 137,
   "metadata": {},
   "outputs": [
    {
     "data": {
      "text/plain": [
       "<AxesSubplot:xlabel='Class', ylabel='count'>"
      ]
     },
     "execution_count": 137,
     "metadata": {},
     "output_type": "execute_result"
    },
    {
     "data": {
      "image/png": "[encoded data removed]",
      "text/plain": [
       "<Figure size 432x288 with 1 Axes>"
      ]
     },
     "metadata": {
      "needs_background": "light"
     },
     "output_type": "display_data"
    }
   ],
   "source": [
    "sns.countplot(x=y_train)"
   ]
  },
  {
   "cell_type": "code",
   "execution_count": 138,
   "metadata": {},
   "outputs": [],
   "source": [
    "# Logistic Regression\n",
    "class CustomLogisticRegression() :\n",
    "    def __init__( self, learning_rate, iterations ) :        \n",
    "        self.learning_rate = learning_rate        \n",
    "        self.iterations = iterations\n",
    "          \n",
    "    # Function for model training    \n",
    "    def fit( self, X, Y ) :        \n",
    "        # no_of_training_examples, no_of_features        \n",
    "        self.m, self.n = X.shape        \n",
    "        # weight initialization        \n",
    "        self.W = np.zeros( self.n )        \n",
    "        self.b = 0        \n",
    "        self.X = X        \n",
    "        self.Y = Y\n",
    "          \n",
    "        # gradient descent learning\n",
    "                  \n",
    "        for i in range( self.iterations ) :            \n",
    "            self.update_weights()            \n",
    "        return self\n",
    "      \n",
    "    # Helper function to update weights in gradient descent\n",
    "      \n",
    "    def update_weights( self ) :           \n",
    "        A = 1 / ( 1 + np.exp( - ( self.X.dot( self.W ) + self.b ) ) )\n",
    "          \n",
    "        # calculate gradients        \n",
    "        tmp = ( A - self.Y.T )        \n",
    "        tmp = np.reshape( tmp, self.m )        \n",
    "        dW = np.dot( self.X.T, tmp ) / self.m         \n",
    "        db = np.sum( tmp ) / self.m \n",
    "          \n",
    "        # update weights    \n",
    "        self.W = self.W - self.learning_rate * dW    \n",
    "        self.b = self.b - self.learning_rate * db\n",
    "          \n",
    "        return self\n",
    "      \n",
    "    # Hypothetical function  h( x ) \n",
    "      \n",
    "    def predict( self, X ) :    \n",
    "        Z = 1 / ( 1 + np.exp( - ( X.dot( self.W ) + self.b ) ) )        \n",
    "        Y = np.where( Z > 0.5, 1, 0 )        \n",
    "        return Y"
   ]
  },
  {
   "cell_type": "code",
   "execution_count": 139,
   "metadata": {},
   "outputs": [
    {
     "data": {
      "text/html": [
       "<h1>Logistic Regression</h1>"
      ],
      "text/plain": [
       "<IPython.core.display.HTML object>"
      ]
     },
     "metadata": {},
     "output_type": "display_data"
    },
    {
     "name": "stdout",
     "output_type": "stream",
     "text": [
      "----------------------------------------------------------------\n",
      "The Accuracy of the model is :  67.084 %\n",
      "----------------------------------------------------------------\n",
      "              precision    recall  f1-score   support\n",
      "\n",
      "           0       0.84      0.65      0.74    140572\n",
      "           1       0.46      0.71      0.56     59428\n",
      "\n",
      "    accuracy                           0.67    200000\n",
      "   macro avg       0.65      0.68      0.65    200000\n",
      "weighted avg       0.73      0.67      0.68    200000\n",
      "\n"
     ]
    },
    {
     "data": {
      "image/png": "[encoded data removed]",
      "text/plain": [
       "<Figure size 432x288 with 2 Axes>"
      ]
     },
     "metadata": {
      "needs_background": "light"
     },
     "output_type": "display_data"
    }
   ],
   "source": [
    "logReg = CustomLogisticRegression(learning_rate = 0.01, iterations = 1000)\n",
    "logReg.fit(X_train, y_train)\n",
    "\n",
    "prediction = logReg.predict(X_test)\n",
    "\n",
    "# Getting and printing model scores\n",
    "cm = confusion_matrix(y_test,prediction)\n",
    "sns.heatmap(cm/np.sum(cm), annot= True, fmt='.2%', cmap='Blues')\n",
    "display(HTML(\"<h1>Logistic Regression</h1>\"))\n",
    "print('----------------------------------------------------------------')\n",
    "\n",
    "print(\"The Accuracy of the model is : \", accuracy_score(y_test, prediction)*100, \"%\")\n",
    "print('----------------------------------------------------------------')\n",
    "\n",
    "# Look at classification report to evaluate the model\n",
    "print(classification_report(y_test,prediction))"
   ]
  },
  {
   "cell_type": "code",
   "execution_count": 140,
   "metadata": {},
   "outputs": [
    {
     "name": "stdout",
     "output_type": "stream",
     "text": [
      "0.66914\n"
     ]
    },
    {
     "name": "stderr",
     "output_type": "stream",
     "text": [
      "c:\\Users\\Dylan\\anaconda3\\lib\\site-packages\\scipy\\optimize\\linesearch.py:327: LineSearchWarning: The line search algorithm did not converge\n",
      "  warn('The line search algorithm did not converge', LineSearchWarning)\n",
      "c:\\Users\\Dylan\\anaconda3\\lib\\site-packages\\sklearn\\utils\\optimize.py:203: UserWarning: Line Search failed\n",
      "  warnings.warn(\"Line Search failed\")\n"
     ]
    }
   ],
   "source": [
    "from sklearn.linear_model import LogisticRegression\n",
    "model = LogisticRegression(solver='newton-cg', max_iter=150)\n",
    "model.fit(X_train, y_train)\n",
    "pred2 = model.predict(X_test)\n",
    "accuracy2 = accuracy_score(y_test, pred2)\n",
    "print(accuracy2)"
   ]
  },
  {
   "cell_type": "code",
   "execution_count": 142,
   "metadata": {},
   "outputs": [
    {
     "name": "stdout",
     "output_type": "stream",
     "text": [
      "0.71522\n"
     ]
    }
   ],
   "source": [
    "from sklearn.ensemble import RandomForestClassifier\n",
    "# creating a RF classifier\n",
    "clf = RandomForestClassifier(n_estimators = 75) \n",
    " \n",
    "# Training the model on the training dataset\n",
    "# fit function is used to train the model using the training sets as parameters\n",
    "clf.fit(X_train, y_train)\n",
    "\n",
    "# performing predictions on the test dataset\n",
    "y_pred = clf.predict(X_test)\n",
    "\n",
    "accuracy3 = accuracy_score(y_test, y_pred)\n",
    "print(accuracy3)"
   ]
  }
 ],
 "metadata": {
  "kernelspec": {
   "display_name": "Python 3.9.7 ('base')",
   "language": "python",
   "name": "python3"
  },
  "language_info": {
   "codemirror_mode": {
    "name": "ipython",
    "version": 3
   },
   "file_extension": ".py",
   "mimetype": "text/x-python",
   "name": "python",
   "nbconvert_exporter": "python",
   "pygments_lexer": "ipython3",
   "version": "3.9.7"
  },
  "orig_nbformat": 4,
  "vscode": {
   "interpreter": {
    "hash": "dc79205d6004f7d832ecc52c21573dee48d50986772725eb46055dbb7d7aeef2"
   }
  }
 },
 "nbformat": 4,
 "nbformat_minor": 2
}
